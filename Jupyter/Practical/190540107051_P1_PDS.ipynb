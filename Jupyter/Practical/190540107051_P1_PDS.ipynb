{
 "cells": [
  {
   "cell_type": "code",
   "execution_count": 1,
   "id": "c1fd36bc",
   "metadata": {},
   "outputs": [
    {
     "name": "stdout",
     "output_type": "stream",
     "text": [
      "Enter first number : 12\n",
      "Enter second number : 30\n",
      "Sum of 12 and 30 is : 42\n"
     ]
    }
   ],
   "source": [
    "# Program 1:\n",
    "\n",
    "n1 = int(input(\"Enter first number : \"))\n",
    "n2 = int(input(\"Enter second number : \"))\n",
    "\n",
    "print(\"Sum of {} and {} is : {}\".format(n1,n2,n1+n2))"
   ]
  },
  {
   "cell_type": "code",
   "execution_count": 2,
   "id": "748be960",
   "metadata": {},
   "outputs": [
    {
     "name": "stdout",
     "output_type": "stream",
     "text": [
      "2002 2009 2016 2023 2037 2044 2051 2058 2072 2079 2086 2093 2107 2114 2121 2128 2142 2149 2156 2163 2177 2184 2191 2198 2212 2219 2226 2233 2247 2254 2261 2268 2282 2289 2296 2303 2317 2324 2331 2338 2352 2359 2366 2373 2387 2394 2401 2408 2422 2429 2436 2443 2457 2464 2471 2478 2492 2499 2506 2513 2527 2534 2541 2548 2562 2569 2576 2583 2597 2604 2611 2618 2632 2639 2646 2653 2667 2674 2681 2688 2702 2709 2716 2723 2737 2744 2751 2758 2772 2779 2786 2793 2807 2814 2821 2828 2842 2849 2856 2863 2877 2884 2891 2898 2912 2919 2926 2933 2947 2954 2961 2968 2982 2989 2996 3003 3017 3024 3031 3038 3052 3059 3066 3073 3087 3094 3101 3108 3122 3129 3136 3143 3157 3164 3171 3178 3192 3199 "
     ]
    }
   ],
   "source": [
    "# Program 2:\n",
    "\n",
    "for a in range(2000,3201):\n",
    "    if a%7 == 0 and a%5 != 0:\n",
    "        print(a,end=\" \")"
   ]
  },
  {
   "cell_type": "code",
   "execution_count": 3,
   "id": "26cef746",
   "metadata": {},
   "outputs": [
    {
     "name": "stdout",
     "output_type": "stream",
     "text": [
      "Enter principal : 10000\n",
      "Enter rate of interest : 4\n",
      "Enter time period : 5\n",
      "Interest is : 2000.0\n"
     ]
    }
   ],
   "source": [
    "# Program 3:\n",
    "\n",
    "p = int(input(\"Enter principal : \"))\n",
    "r = float(input(\"Enter rate of interest : \"))\n",
    "t = int(input(\"Enter time period : \"))\n",
    "\n",
    "i = (p*r*t)/100\n",
    "\n",
    "print(\"Interest is : {}\".format(i))"
   ]
  },
  {
   "cell_type": "code",
   "execution_count": 4,
   "id": "3c6499de",
   "metadata": {},
   "outputs": [
    {
     "name": "stdout",
     "output_type": "stream",
     "text": [
      "Enter a radius : 20\n",
      "Area is : 1256.6370614359173\n"
     ]
    }
   ],
   "source": [
    "# Program 4:\n",
    "\n",
    "import math\n",
    "\n",
    "r = float(input(\"Enter a radius : \"))\n",
    "\n",
    "area = math.pi*r*r\n",
    "\n",
    "print(\"Area is : {}\".format(area))"
   ]
  },
  {
   "cell_type": "code",
   "execution_count": 5,
   "id": "397a84c6",
   "metadata": {},
   "outputs": [
    {
     "name": "stdout",
     "output_type": "stream",
     "text": [
      "Enter a number : 5\n",
      "Answere is : 120\n"
     ]
    }
   ],
   "source": [
    "# Program 5:\n",
    "\n",
    "n = int(input(\"Enter a number : \"))\n",
    "fact = 1\n",
    "for a in range(1,n+1):\n",
    "    fact *= a\n",
    "print(\"Answere is : {}\".format(fact))"
   ]
  },
  {
   "cell_type": "code",
   "execution_count": 8,
   "id": "0bec67f8",
   "metadata": {},
   "outputs": [
    {
     "name": "stdout",
     "output_type": "stream",
     "text": [
      "Enter a number : 5\n",
      "5 is prime number.\n"
     ]
    }
   ],
   "source": [
    "# Program 6:\n",
    "\n",
    "n = int(input(\"Enter a number : \"))\n",
    "\n",
    "flag = True\n",
    "for a in range(2,n):\n",
    "    if n%a == 0:\n",
    "        flag = False\n",
    "        break\n",
    "if flag:\n",
    "    print(\"{} is prime number.\".format(n))\n",
    "else:\n",
    "    print(\"{} is not prime number.\".format(n))\n"
   ]
  },
  {
   "cell_type": "code",
   "execution_count": 9,
   "id": "249a4822",
   "metadata": {},
   "outputs": [
    {
     "name": "stdout",
     "output_type": "stream",
     "text": [
      "Enter start range: 20\n",
      "Enter end range: 40\n",
      "23 29 31 37 "
     ]
    }
   ],
   "source": [
    "# Program 7:\n",
    "\n",
    "start = int(input(\"Enter start range: \"))  \n",
    "end = int(input(\"Enter end range: \"))  \n",
    "  \n",
    "for n in range(start,end + 1):  \n",
    "   if n > 1:  \n",
    "       for i in range(2,n):  \n",
    "           if (n % i) == 0:  \n",
    "               break  \n",
    "       else:  \n",
    "           print(n,end=\" \")"
   ]
  },
  {
   "cell_type": "code",
   "execution_count": 10,
   "id": "a9ec065d",
   "metadata": {},
   "outputs": [
    {
     "name": "stdout",
     "output_type": "stream",
     "text": [
      "Enter the number : 100\n",
      "Largest prime factor is :  5\n"
     ]
    }
   ],
   "source": [
    "# Program 8:\n",
    "\n",
    "import math\n",
    " \n",
    "n = int(input(\"Enter the number : \"))\n",
    "\n",
    "maxPrimeFactor = 0\n",
    "\n",
    "while n % 2 == 0:\n",
    "\tmaxPrimeFactor = 2\n",
    "\tn = n/2\t\n",
    "\n",
    "for i in range(3, int(math.sqrt(n)) + 1, 2):\n",
    "\twhile n % i == 0:\n",
    "\t\tmaxPrimeFactor = i\n",
    "\t\tn = n / i\n",
    "if n > 2:\n",
    "\tmaxPrimeFactor = n\n",
    "\t\t\n",
    "print(\"Largest prime factor is : \",int(maxPrimeFactor))"
   ]
  },
  {
   "cell_type": "code",
   "execution_count": 11,
   "id": "ef7be7a0",
   "metadata": {},
   "outputs": [
    {
     "name": "stdout",
     "output_type": "stream",
     "text": [
      "Enter a number : 20\n",
      "Fibonacci series is :  0 1 1 2 3 5 8 13 "
     ]
    }
   ],
   "source": [
    "# Program 9:\n",
    "\n",
    "n = int(input(\"Enter a number : \"))\n",
    "a = 0\n",
    "b = 1\n",
    "sum = 0\n",
    "print(\"Fibonacci series is : \", end = \" \")\n",
    "while(sum <= n):\n",
    "     print(sum, end = \" \")\n",
    "     a = b\n",
    "     b = sum\n",
    "     sum = a + b"
   ]
  },
  {
   "cell_type": "code",
   "execution_count": 12,
   "id": "df9f6537",
   "metadata": {},
   "outputs": [
    {
     "name": "stdout",
     "output_type": "stream",
     "text": [
      "Enter character = d\n",
      "ASCII value of d is : 100\n"
     ]
    }
   ],
   "source": [
    "# Program 10:\n",
    "\n",
    "a = input(\"Enter character = \")\n",
    "\n",
    "print(\"ASCII value of {} is : {}\".format(a,ord(a)))"
   ]
  },
  {
   "cell_type": "code",
   "execution_count": 13,
   "id": "dff2cd8d",
   "metadata": {},
   "outputs": [
    {
     "name": "stdout",
     "output_type": "stream",
     "text": [
      "Enter number : 121\n",
      "121 is a palindrome number.\n"
     ]
    }
   ],
   "source": [
    "# Program 11:\n",
    "\n",
    "n = int(input(\"Enter number : \"))\n",
    "temp = n\n",
    "rev = 0\n",
    "\n",
    "while(n>0):\n",
    "    dig = n%10\n",
    "    rev = rev*10+dig\n",
    "    n = n//10\n",
    "if(temp == rev):\n",
    "    print(\"{} is a palindrome number.\".format(temp))\n",
    "else:\n",
    "    print(\"{} is not a palindrome number.\".format(temp))"
   ]
  },
  {
   "cell_type": "code",
   "execution_count": 14,
   "id": "7ef94e54",
   "metadata": {},
   "outputs": [
    {
     "name": "stdout",
     "output_type": "stream",
     "text": [
      "Enter a number : 10\n",
      "Sum of square of first 10 natural number is = 385\n"
     ]
    }
   ],
   "source": [
    "# Program 12:\n",
    "\n",
    "n = int(input(\"Enter a number : \"))\n",
    "\n",
    "ans = 0\n",
    "for i in range(1, n+1):\n",
    "    ans += (i*i)\n",
    "\n",
    "print(\"Sum of square of first {} natural number is = {}\".format(n,ans))"
   ]
  },
  {
   "cell_type": "code",
   "execution_count": 15,
   "id": "597cc007",
   "metadata": {},
   "outputs": [
    {
     "name": "stdout",
     "output_type": "stream",
     "text": [
      "Enter a number : 10\n",
      "Sum of cube of first 10 natural number is = 3025\n"
     ]
    }
   ],
   "source": [
    "# Program 13:\n",
    "\n",
    "n = int(input(\"Enter a number : \"))\n",
    "\n",
    "ans = 0\n",
    "for i in range(1, n+1):\n",
    "    ans += (i*i*i)\n",
    "\n",
    "print(\"Sum of cube of first {} natural number is = {}\".format(n,ans))"
   ]
  },
  {
   "cell_type": "code",
   "execution_count": 16,
   "id": "09bf6229",
   "metadata": {},
   "outputs": [
    {
     "name": "stdout",
     "output_type": "stream",
     "text": [
      "Enter a binary number : 1100\n",
      "Decimal value is : 12\n"
     ]
    }
   ],
   "source": [
    "# Program 14:\n",
    "\n",
    "bnum = list(input(\"Enter a binary number : \"))\n",
    "value = 0\n",
    "\n",
    "for i in range(len(bnum)):\n",
    "\tdigit = bnum.pop()\n",
    "\tif digit == '1':\n",
    "\t\tvalue = value + pow(2, i)\n",
    "print(\"Decimal value is : {}\".format(value))"
   ]
  },
  {
   "cell_type": "code",
   "execution_count": 17,
   "id": "48f89773",
   "metadata": {},
   "outputs": [
    {
     "name": "stdout",
     "output_type": "stream",
     "text": [
      "Enter a decimal number : 12\n",
      "Binary value is :  1100"
     ]
    }
   ],
   "source": [
    "# Program 15:\n",
    "\n",
    "dnum = int(input(\"Enter a decimal number : \"))\n",
    "i = 0\n",
    "bnum = []\n",
    "\n",
    "while dnum!=0:\n",
    "    rem = dnum%2\n",
    "    bnum.insert(i, rem)\n",
    "    i += 1 \n",
    "    dnum = int(dnum/2)\n",
    "\n",
    "i -= 1\n",
    "print(\"Binary value is : \",end=\" \")\n",
    "\n",
    "while i>=0:\n",
    "    print(end=str(bnum[i]))\n",
    "    i -= 1"
   ]
  },
  {
   "cell_type": "code",
   "execution_count": 18,
   "id": "9883f1bb",
   "metadata": {},
   "outputs": [
    {
     "name": "stdout",
     "output_type": "stream",
     "text": [
      "Enter a number : 5\n",
      "* \n",
      "* * \n",
      "* * * \n",
      "* * * * \n",
      "* * * * * \n"
     ]
    }
   ],
   "source": [
    "# Program 16.1:\n",
    "\n",
    "n = int(input(\"Enter a number : \"))\n",
    "\n",
    "for i in range(0, n):\n",
    "    for j in range(0, i + 1):\n",
    "        print(\"*\", end=' ')\n",
    "    print(\"\\r\")"
   ]
  },
  {
   "cell_type": "code",
   "execution_count": 19,
   "id": "c7f75ade",
   "metadata": {},
   "outputs": [
    {
     "name": "stdout",
     "output_type": "stream",
     "text": [
      "Enter a number : 5\n",
      "$ $ $ $ $  \n",
      "$ $ $ $  \n",
      "$ $ $  \n",
      "$ $  \n",
      "$  \n",
      " \n"
     ]
    }
   ],
   "source": [
    "# Program 16.2:\n",
    "\n",
    "n = int(input(\"Enter a number : \"))\n",
    "\n",
    "for i in range(n + 1, 0, -1):\n",
    "    for j in range(0, i - 1):\n",
    "        print(\"$\", end=' ')\n",
    "    print(\" \")"
   ]
  },
  {
   "cell_type": "code",
   "execution_count": 20,
   "id": "32b8f2be",
   "metadata": {},
   "outputs": [
    {
     "name": "stdout",
     "output_type": "stream",
     "text": [
      "Enter a number : 5\n",
      "# # # # # \n",
      "  # # # \n",
      "    # \n",
      "  # # # \n",
      "# # # # # \n"
     ]
    }
   ],
   "source": [
    "# Program 16.3:\n",
    "\n",
    "n = int(input(\"Enter a number : \"))\n",
    "\n",
    "i = 0\n",
    "while i <= n - 1:\n",
    "    j = 0\n",
    "    while j < i:\n",
    "        print('', end=' ')\n",
    "        j += 1\n",
    "    k = i\n",
    "    while k <= n - 1:\n",
    "        print('#', end=' ')\n",
    "        k += 1\n",
    "    print()\n",
    "    i += 2\n",
    "\n",
    "i = n - 2\n",
    "while i >= 0:\n",
    "    j = 0\n",
    "    while j < i-1:\n",
    "        print('', end=' ')\n",
    "        j += 1\n",
    "    k = i\n",
    "    while k <= n:\n",
    "        print('#', end=' ')\n",
    "        k += 1\n",
    "    print('')\n",
    "    i -= 2"
   ]
  },
  {
   "cell_type": "code",
   "execution_count": 21,
   "id": "2192d135",
   "metadata": {},
   "outputs": [
    {
     "name": "stdout",
     "output_type": "stream",
     "text": [
      "Enter a number : 4\n",
      "1  \n",
      "2 3  \n",
      "4 5 6  \n",
      "7 8 9 10  \n"
     ]
    }
   ],
   "source": [
    "# Program 16.4:\n",
    "\n",
    "n = int(input(\"Enter a number : \"))\n",
    "number = 1\n",
    "for i in range(0, n):\n",
    "    for j in range(0, i + 1):\n",
    "        print(number, end=' ')\n",
    "        number += 1\n",
    "    print(\" \")"
   ]
  },
  {
   "cell_type": "code",
   "execution_count": null,
   "id": "cc11028d",
   "metadata": {},
   "outputs": [],
   "source": []
  }
 ],
 "metadata": {
  "kernelspec": {
   "display_name": "Python 3",
   "language": "python",
   "name": "python3"
  },
  "language_info": {
   "codemirror_mode": {
    "name": "ipython",
    "version": 3
   },
   "file_extension": ".py",
   "mimetype": "text/x-python",
   "name": "python",
   "nbconvert_exporter": "python",
   "pygments_lexer": "ipython3",
   "version": "3.8.8"
  }
 },
 "nbformat": 4,
 "nbformat_minor": 5
}

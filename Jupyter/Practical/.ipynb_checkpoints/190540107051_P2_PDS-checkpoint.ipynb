{
 "cells": [
  {
   "cell_type": "code",
   "execution_count": 4,
   "id": "37988940",
   "metadata": {},
   "outputs": [
    {
     "name": "stdout",
     "output_type": "stream",
     "text": [
      "14\n"
     ]
    }
   ],
   "source": [
    "# Program 1:\n",
    "def Sum(*n):\n",
    "    ans = 0;\n",
    "    for a in n: ans += a #arbitrary argument is always stored in tuples form, so we use for loop to access element.\n",
    "    return ans\n",
    "\n",
    "print(Sum(2,3,4,5))"
   ]
  },
  {
   "cell_type": "code",
   "execution_count": 8,
   "id": "3af9fd79",
   "metadata": {},
   "outputs": [
    {
     "name": "stdout",
     "output_type": "stream",
     "text": [
      "2002 2009 2016 2023 2037 2044 2051 2058 2072 2079 2086 2093 2107 2114 2121 2128 2142 2149 2156 2163 2177 2184 2191 2198 2212 2219 2226 2233 2247 2254 2261 2268 2282 2289 2296 2303 2317 2324 2331 2338 2352 2359 2366 2373 2387 2394 2401 2408 2422 2429 2436 2443 2457 2464 2471 2478 2492 2499 2506 2513 2527 2534 2541 2548 2562 2569 2576 2583 2597 2604 2611 2618 2632 2639 2646 2653 2667 2674 2681 2688 2702 2709 2716 2723 2737 2744 2751 2758 2772 2779 2786 2793 2807 2814 2821 2828 2842 2849 2856 2863 2877 2884 2891 2898 2912 2919 2926 2933 2947 2954 2961 2968 2982 2989 2996 3003 3017 3024 3031 3038 3052 3059 3066 3073 3087 3094 3101 3108 3122 3129 3136 3143 3157 3164 3171 3178 3192 3199 "
     ]
    }
   ],
   "source": [
    "# Program 2:\n",
    "def fun():\n",
    "    [print(a,end=\" \") for a in range(2000,3201) if a%7 == 0 and a%5 != 0] #This is one line for and if.\n",
    "    '''\n",
    "        for a in range(2000,3201):\n",
    "            if a%7 == 0 and a%5 != 0:\n",
    "            print(a,end=\" \")\n",
    "    '''\n",
    "fun()"
   ]
  },
  {
   "cell_type": "code",
   "execution_count": 9,
   "id": "b2541274",
   "metadata": {},
   "outputs": [
    {
     "name": "stdout",
     "output_type": "stream",
     "text": [
      "Enter principal : 10000\n",
      "Enter rate of interest : 10\n",
      "Enter time period : 5\n",
      "Interest is : 5000.0\n"
     ]
    }
   ],
   "source": [
    "# Program 3:\n",
    "def interest(principle,rate,period):\n",
    "    return (principle*rate*period)/100\n",
    "\n",
    "p = int(input(\"Enter principal : \"))\n",
    "r = float(input(\"Enter rate of interest : \"))\n",
    "t = int(input(\"Enter time period : \"))\n",
    "\n",
    "print(\"Interest is : {}\".format(interest(rate = r,principle = p,period = t))) # here we use keyword argument."
   ]
  },
  {
   "cell_type": "code",
   "execution_count": 13,
   "id": "10d36c11",
   "metadata": {},
   "outputs": [
    {
     "name": "stdout",
     "output_type": "stream",
     "text": [
      "Enter a redius of circule : 10\n",
      "Area of circule is : 314.1592653589793\n"
     ]
    }
   ],
   "source": [
    "# Program 4:\n",
    "import math\n",
    "\n",
    "def area(redius):\n",
    "    return math.pi*redius**2\n",
    "\n",
    "r = int(input(\"Enter a redius of circule : \"))\n",
    "print(\"Area of circule is : {}\".format(area(r)))"
   ]
  },
  {
   "cell_type": "code",
   "execution_count": 14,
   "id": "98d72543",
   "metadata": {},
   "outputs": [
    {
     "name": "stdout",
     "output_type": "stream",
     "text": [
      "Enter a number : 7\n",
      "7 is prime number.\n"
     ]
    }
   ],
   "source": [
    "# Program 6:\n",
    "\n",
    "def isPrime(n):\n",
    "    flag = True\n",
    "    for a in range(2,n):\n",
    "        if n%a == 0:\n",
    "            flag = False\n",
    "            break\n",
    "    if flag:\n",
    "        print(\"{} is prime number.\".format(n))\n",
    "    else:\n",
    "        print(\"{} is not prime number.\".format(n))\n",
    "\n",
    "n = int(input(\"Enter a number : \"))\n",
    "isPrime(n)"
   ]
  },
  {
   "cell_type": "code",
   "execution_count": 15,
   "id": "53d153b7",
   "metadata": {},
   "outputs": [
    {
     "name": "stdout",
     "output_type": "stream",
     "text": [
      "Enter a number : 4\n",
      "Answere is : 24\n"
     ]
    }
   ],
   "source": [
    "# Program 5:\n",
    "\n",
    "def factorial(n):\n",
    "    fact = 1\n",
    "    for a in range(1,n+1):\n",
    "        fact *= a\n",
    "    print(\"Answere is : {}\".format(fact))\n",
    "\n",
    "n = int(input(\"Enter a number : \"))\n",
    "factorial(n)"
   ]
  },
  {
   "cell_type": "code",
   "execution_count": 17,
   "id": "f45617a4",
   "metadata": {},
   "outputs": [
    {
     "name": "stdout",
     "output_type": "stream",
     "text": [
      "Enter starting point : 10\n",
      "Enter ending point : 25\n",
      "11 13 17 19 23 "
     ]
    }
   ],
   "source": [
    "# Program 7:\n",
    " \n",
    "def getPrime(start,end):\n",
    "    for n in range(start,end + 1):  \n",
    "       if n > 1:  \n",
    "           for i in range(2,n):  \n",
    "               if (n % i) == 0:  \n",
    "                   break  \n",
    "           else:  \n",
    "               print(n,end=\" \")\n",
    "\n",
    "start = int(input(\"Enter starting point : \"))  \n",
    "end = int(input(\"Enter ending point : \"))\n",
    "getPrime(start,end)"
   ]
  },
  {
   "cell_type": "code",
   "execution_count": 18,
   "id": "2dd09b6f",
   "metadata": {},
   "outputs": [
    {
     "name": "stdout",
     "output_type": "stream",
     "text": [
      "Enter the number : 100\n",
      "Largest prime factor is :  5\n"
     ]
    }
   ],
   "source": [
    "# Program 8:\n",
    "\n",
    "import math\n",
    " \n",
    "def getLargestPrimeFector(n):\n",
    "    maxPrimeFactor = 0\n",
    "\n",
    "    while n % 2 == 0:\n",
    "        maxPrimeFactor = 2\n",
    "        n = n/2\t\n",
    "\n",
    "    for i in range(3, int(math.sqrt(n)) + 1, 2):\n",
    "        while n % i == 0:\n",
    "            maxPrimeFactor = i\n",
    "            n = n / i\n",
    "    if n > 2:\n",
    "        maxPrimeFactor = n\n",
    "\n",
    "    print(\"Largest prime factor is : \",int(maxPrimeFactor))\n",
    "\n",
    "n = int(input(\"Enter the number : \"))\n",
    "getLargestPrimeFector(n)"
   ]
  },
  {
   "cell_type": "code",
   "execution_count": 20,
   "id": "d9a1cfd5",
   "metadata": {},
   "outputs": [
    {
     "name": "stdout",
     "output_type": "stream",
     "text": [
      "Enter a number : 20\n",
      "Fibonacci series is :  0 1 1 2 3 5 8 13 "
     ]
    }
   ],
   "source": [
    "# Program 9:\n",
    "\n",
    "def getFibonacci(n):\n",
    "    a = 0\n",
    "    b = 1\n",
    "    sum = 0\n",
    "    print(\"Fibonacci series is : \", end = \" \")\n",
    "    while(sum <= n):\n",
    "         print(sum, end = \" \")\n",
    "         a = b\n",
    "         b = sum\n",
    "         sum = a + b\n",
    "        \n",
    "n = int(input(\"Enter a number : \"))\n",
    "getFibonacci(n)"
   ]
  },
  {
   "cell_type": "code",
   "execution_count": 23,
   "id": "19462296",
   "metadata": {},
   "outputs": [
    {
     "name": "stdout",
     "output_type": "stream",
     "text": [
      "Enter character = d\n",
      "ASCII value of d is : 100\n"
     ]
    }
   ],
   "source": [
    "# Program 10:\n",
    "\n",
    "def getASCII(n):\n",
    "    return ord(n)\n",
    "\n",
    "n = input(\"Enter character = \")\n",
    "print(\"ASCII value of {} is : {}\".format(n,getASCII(n)))"
   ]
  },
  {
   "cell_type": "code",
   "execution_count": 25,
   "id": "91ad6b71",
   "metadata": {},
   "outputs": [
    {
     "name": "stdout",
     "output_type": "stream",
     "text": [
      "Enter number : 121\n",
      "121 is a palindrome number.\n"
     ]
    }
   ],
   "source": [
    "# Program 11:\n",
    "\n",
    "def isPalindrome(n):\n",
    "    temp = n\n",
    "    rev = 0\n",
    "\n",
    "    while(n>0):\n",
    "        dig = n%10\n",
    "        rev = rev*10+dig\n",
    "        n = n//10\n",
    "    if(temp == rev):\n",
    "        print(\"{} is a palindrome number.\".format(temp))\n",
    "    else:\n",
    "        print(\"{} is not a palindrome number.\".format(temp))\n",
    "\n",
    "n = int(input(\"Enter number : \"))\n",
    "isPalindrome(n)"
   ]
  },
  {
   "cell_type": "code",
   "execution_count": 26,
   "id": "827fe213",
   "metadata": {},
   "outputs": [
    {
     "name": "stdout",
     "output_type": "stream",
     "text": [
      "Enter a number : 10\n",
      "Sum of square of first 10 natural number is = 385\n"
     ]
    }
   ],
   "source": [
    "# Program 12:\n",
    "\n",
    "def getSumOfSquare(n):\n",
    "    ans = 0\n",
    "    for i in range(1, n+1): ans += pow(i,2)\n",
    "    return ans\n",
    "    \n",
    "n = int(input(\"Enter a number : \"))\n",
    "print(\"Sum of square of first {} natural number is = {}\".format(n,getSumOfSquare(n)))"
   ]
  },
  {
   "cell_type": "code",
   "execution_count": 27,
   "id": "cd7ecfd0",
   "metadata": {},
   "outputs": [
    {
     "name": "stdout",
     "output_type": "stream",
     "text": [
      "Enter a number : 10\n",
      "Sum of cube of first 10 natural number is = 3025\n"
     ]
    }
   ],
   "source": [
    "# Program 13:\n",
    "\n",
    "def getSumOfCube(n):\n",
    "    ans = 0\n",
    "    for i in range(1, n+1): ans += pow(i,3)\n",
    "    return ans\n",
    "    \n",
    "n = int(input(\"Enter a number : \"))\n",
    "print(\"Sum of cube of first {} natural number is = {}\".format(n,getSumOfCube(n)))"
   ]
  },
  {
   "cell_type": "code",
   "execution_count": 29,
   "id": "69410675",
   "metadata": {},
   "outputs": [
    {
     "name": "stdout",
     "output_type": "stream",
     "text": [
      "Enter a binary number : 1100\n",
      "Decimal value is : 12\n"
     ]
    }
   ],
   "source": [
    "# Program 14:\n",
    "\n",
    "def getDecimal(bnam):\n",
    "    value = 0\n",
    "\n",
    "    for i in range(len(bnum)):\n",
    "        digit = bnum.pop()\n",
    "        if digit == '1':\n",
    "            value = value + pow(2, i)\n",
    "    return value\n",
    "\n",
    "bnum = list(input(\"Enter a binary number : \"))\n",
    "print(\"Decimal value is : {}\".format(getDecimal(bnum)))"
   ]
  },
  {
   "cell_type": "code",
   "execution_count": 31,
   "id": "58dd2fd4",
   "metadata": {},
   "outputs": [
    {
     "name": "stdout",
     "output_type": "stream",
     "text": [
      "Enter a decimal number : 12\n",
      "Binary value is :  1100"
     ]
    }
   ],
   "source": [
    "# Program 15:\n",
    "\n",
    "\n",
    "def getBinary(dnum):\n",
    "    i = 0\n",
    "    bnum = []\n",
    "\n",
    "    while dnum!=0:\n",
    "        rem = dnum%2\n",
    "        bnum.insert(i, rem)\n",
    "        i += 1 \n",
    "        dnum = int(dnum/2)\n",
    "\n",
    "    i -= 1\n",
    "    print(\"Binary value is : \",end=\" \")\n",
    "\n",
    "    while i>=0:\n",
    "        print(end=str(bnum[i]))\n",
    "        i -= 1\n",
    "\n",
    "dnum = int(input(\"Enter a decimal number : \"))\n",
    "getBinary(dnum)"
   ]
  },
  {
   "cell_type": "code",
   "execution_count": 32,
   "id": "f80dd765",
   "metadata": {},
   "outputs": [
    {
     "name": "stdout",
     "output_type": "stream",
     "text": [
      "Enter a number : 5\n",
      "* \n",
      "* * \n",
      "* * * \n",
      "* * * * \n",
      "* * * * * \n"
     ]
    }
   ],
   "source": [
    "# Program 16.1:\n",
    "\n",
    "def firstPattern(n):\n",
    "    for i in range(0, n):\n",
    "        for j in range(0, i + 1):\n",
    "            print(\"*\", end=' ')\n",
    "        print(\"\\r\")\n",
    "\n",
    "n = int(input(\"Enter a number : \"))\n",
    "firstPattern(n)"
   ]
  },
  {
   "cell_type": "code",
   "execution_count": 35,
   "id": "c03f7b77",
   "metadata": {},
   "outputs": [
    {
     "name": "stdout",
     "output_type": "stream",
     "text": [
      "Enter a number : 5\n",
      "$ $ $ $ $  \n",
      "$ $ $ $  \n",
      "$ $ $  \n",
      "$ $  \n",
      "$  \n",
      " \n"
     ]
    }
   ],
   "source": [
    "# Program 16.2:\n",
    "\n",
    "def secondPattern(n):\n",
    "    for i in range(n + 1, 0, -1):\n",
    "        for j in range(0, i - 1):\n",
    "            print(\"$\", end=' ')\n",
    "        print(\" \")\n",
    "\n",
    "n = int(input(\"Enter a number : \"))\n",
    "secondPattern(n)"
   ]
  },
  {
   "cell_type": "code",
   "execution_count": 36,
   "id": "dd442131",
   "metadata": {},
   "outputs": [
    {
     "name": "stdout",
     "output_type": "stream",
     "text": [
      "Enter a number : 5\n",
      "# # # # # \n",
      "  # # # \n",
      "    # \n",
      "  # # # \n",
      "# # # # # \n"
     ]
    }
   ],
   "source": [
    "# Program 16.3:\n",
    "\n",
    "def thirdPattern(n):\n",
    "    i = 0\n",
    "    while i <= n - 1:\n",
    "        j = 0\n",
    "        while j < i:\n",
    "            print('', end=' ')\n",
    "            j += 1\n",
    "        k = i\n",
    "        while k <= n - 1:\n",
    "            print('#', end=' ')\n",
    "            k += 1\n",
    "        print()\n",
    "        i += 2\n",
    "\n",
    "    i = n - 2\n",
    "    while i >= 0:\n",
    "        j = 0\n",
    "        while j < i-1:\n",
    "            print('', end=' ')\n",
    "            j += 1\n",
    "        k = i\n",
    "        while k <= n:\n",
    "            print('#', end=' ')\n",
    "            k += 1\n",
    "        print('')\n",
    "        i -= 2\n",
    "\n",
    "n = int(input(\"Enter a number : \"))\n",
    "thirdPattern(n)"
   ]
  },
  {
   "cell_type": "code",
   "execution_count": null,
   "id": "2a67fd74",
   "metadata": {},
   "outputs": [],
   "source": [
    "# Program 16.4:\n",
    "\n",
    "\n",
    "def fourthPattern(n):\n",
    "    number = 1\n",
    "    for i in range(0, n):\n",
    "        for j in range(0, i + 1):\n",
    "            print(number, end=' ')\n",
    "            number += 1\n",
    "        print(\" \")\n",
    "\n",
    "n = int(input(\"Enter a number : \"))\n",
    "fourthPattern(n)"
   ]
  }
 ],
 "metadata": {
  "kernelspec": {
   "display_name": "Python 3",
   "language": "python",
   "name": "python3"
  },
  "language_info": {
   "codemirror_mode": {
    "name": "ipython",
    "version": 3
   },
   "file_extension": ".py",
   "mimetype": "text/x-python",
   "name": "python",
   "nbconvert_exporter": "python",
   "pygments_lexer": "ipython3",
   "version": "3.8.8"
  }
 },
 "nbformat": 4,
 "nbformat_minor": 5
}
